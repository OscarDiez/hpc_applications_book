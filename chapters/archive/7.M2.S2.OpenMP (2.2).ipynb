{
  "nbformat": 4,
  "nbformat_minor": 0,
  "metadata": {
    "colab": {
      "provenance": []
    },
    "kernelspec": {
      "name": "python3",
      "display_name": "Python 3"
    },
    "language_info": {
      "name": "python"
    }
  },
  "cells": [
    {
      "cell_type": "markdown",
      "source": [
        "# Exercise 7.1: Introduction to OpenMP\n",
        "\n",
        "OpenMP (Open Multi-Processing) is a powerful API designed for parallel programming in shared-memory environments. This exercise will introduce you to the basics of OpenMP, including how to use OpenMP directives to parallelize loops and how to manage thread parallelism.\n",
        "\n",
        "## 7.1.1 Overview of OpenMP\n",
        "\n",
        "### 7.1.1.1 Definition and Purpose of OpenMP\n",
        "OpenMP provides a simple and flexible interface for developing parallel applications by using compiler directives, runtime library routines, and environment variables. It allows developers to parallelize existing serial code incrementally, making it easier to transition from sequential to parallel programming.\n",
        "\n",
        "### 7.1.1.2 Historical Context and Development\n",
        "OpenMP was first introduced in 1997 and has since evolved with support for task-based parallelism, accelerator directives, and memory management improvements, making it a relevant tool in modern HPC environments.\n",
        "\n",
        "### 7.1.1.3 Applicability in Modern HPC Environments\n",
        "OpenMP is widely applicable in modern HPC due to its ability to leverage multicore architectures efficiently. It is used in scientific simulations, data analysis, and real-time processing.\n",
        "\n",
        "## 7.1.2 Key Features of OpenMP\n",
        "\n",
        "### 7.1.2.1 Simple and Flexible Parallel Programming Model\n",
        "OpenMP simplifies parallel programming by allowing developers to parallelize loops with minimal code changes. For example, using the `#pragma omp parallel for` directive to parallelize a loop.\n",
        "\n",
        "### 7.1.2.2 Support for C, C++, and Fortran\n",
        "OpenMP supports multiple programming languages, including C, C++, and Fortran, which broadens its applicability across various scientific and engineering domains.\n",
        "\n",
        "### 7.1.2.3 Portable Across Different Shared-Memory Architectures\n",
        "OpenMP is portable across various shared-memory architectures, ensuring that parallel code can run efficiently on different systems without modification.\n",
        "\n",
        "## 7.1.3 Installation and Setup of OpenMP\n",
        "\n",
        "### 7.1.3.1 Installing OpenMP on Various Platforms\n",
        "- **Linux:** Use GCC with the `-fopenmp` flag to compile OpenMP programs.\n",
        "- **Windows:** Use MinGW or Visual Studio to enable OpenMP support.\n",
        "- **MacOS:** Use Homebrew to install GCC for OpenMP support.\n",
        "\n",
        "### 7.1.3.2 Compiler Support for OpenMP\n",
        "OpenMP is supported by GCC, Clang, and Intel Compilers, each providing robust support for parallel programming.\n",
        "\n",
        "## 7.1.3.3 Thread Parallelism\n",
        "Thread parallelism in OpenMP divides a task into smaller sub-tasks that can be executed by multiple threads simultaneously. This approach leverages multicore processors for efficient parallel execution.\n"
      ],
      "metadata": {
        "id": "ijCS7T0wd6BM"
      }
    },
    {
      "cell_type": "code",
      "source": [
        "# Simple example of parallelizing a loop with OpenMP\n",
        "# Save this C code to a file named \"simple_openmp.c\"\n",
        "\n",
        "hello_openmp = \"\"\"\n",
        "#include <stdio.h>\n",
        "#include <omp.h>\n",
        "\n",
        "int main() {\n",
        "    // Set the number of threads, you can change the number here\n",
        "    omp_set_num_threads(4);  // For example, setting 4 threads\n",
        "\n",
        "    // Start parallel region\n",
        "    #pragma omp parallel\n",
        "    {\n",
        "        // Get the thread number\n",
        "        int thread_id = omp_get_thread_num();\n",
        "\n",
        "        // Get the total number of threads\n",
        "        int total_threads = omp_get_num_threads();\n",
        "\n",
        "        // Each thread prints its ID and the total number of threads\n",
        "        printf(\"Hello World from thread %d out of %d threads\\\\n\", thread_id, total_threads);\n",
        "    }\n",
        "\n",
        "    return 0;\n",
        "}\n",
        "\"\"\"\n",
        "\n",
        "# Write the OpenMP code to a file\n",
        "with open('hello_openmp.c', 'w') as f:\n",
        "    f.write(hello_openmp)\n",
        "\n",
        "# Compile the OpenMP C code using GCC with the -fopenmp flag\n",
        "!gcc -fopenmp -o hello_openmp hello_openmp.c\n",
        "\n",
        "# Run the compiled program\n",
        "!./hello_openmp\n"
      ],
      "metadata": {
        "colab": {
          "base_uri": "https://localhost:8080/"
        },
        "id": "G9b6ZbGyYRxF",
        "outputId": "bffbe8c0-e6cc-4ecf-ddb9-14b0e1c56585"
      },
      "execution_count": 4,
      "outputs": [
        {
          "output_type": "stream",
          "name": "stdout",
          "text": [
            "Hello World from thread 0 out of 4 threads\n",
            "Hello World from thread 1 out of 4 threads\n",
            "Hello World from thread 2 out of 4 threads\n",
            "Hello World from thread 3 out of 4 threads\n"
          ]
        }
      ]
    },
    {
      "cell_type": "code",
      "execution_count": null,
      "metadata": {
        "colab": {
          "base_uri": "https://localhost:8080/"
        },
        "id": "KfPGboFwdgVT",
        "outputId": "a17fbb6c-57b0-4977-ea84-44ab95992b69"
      },
      "outputs": [
        {
          "output_type": "stream",
          "name": "stdout",
          "text": [
            "array[0] = 0.000000\n",
            "array[1] = 2.000000\n",
            "array[2] = 4.000000\n",
            "array[3] = 6.000000\n",
            "array[4] = 8.000000\n",
            "array[5] = 10.000000\n",
            "array[6] = 12.000000\n",
            "array[7] = 14.000000\n",
            "array[8] = 16.000000\n",
            "array[9] = 18.000000\n"
          ]
        }
      ],
      "source": [
        "# Simple example of parallelizing a loop with OpenMP\n",
        "# Save this C code to a file named \"simple_openmp.c\"\n",
        "\n",
        "simple_openmp = \"\"\"\n",
        "#include <omp.h>\n",
        "#include <stdio.h>\n",
        "\n",
        "void process_array(float *array, int size) {\n",
        "    #pragma omp parallel for\n",
        "    for (int i = 0; i < size; i++) {\n",
        "        array[i] = array[i] * 2.0;\n",
        "    }\n",
        "}\n",
        "\n",
        "int main() {\n",
        "    int size = 1000;\n",
        "    float array[size];\n",
        "\n",
        "    // Initialize the array\n",
        "    for (int i = 0; i < size; i++) {\n",
        "        array[i] = i * 1.0;\n",
        "    }\n",
        "\n",
        "    process_array(array, size);\n",
        "\n",
        "    // Print the first 10 elements to verify\n",
        "    for (int i = 0; i < 10; i++) {\n",
        "        printf(\"array[%d] = %f\\\\n\", i, array[i]);\n",
        "    }\n",
        "\n",
        "    return 0;\n",
        "}\n",
        "\"\"\"\n",
        "\n",
        "# Write the OpenMP code to a file\n",
        "with open('simple_openmp.c', 'w') as f:\n",
        "    f.write(simple_openmp)\n",
        "\n",
        "# Compile the OpenMP C code using GCC with the -fopenmp flag\n",
        "!gcc -fopenmp -o simple_openmp simple_openmp.c\n",
        "\n",
        "# Run the compiled program\n",
        "!./simple_openmp\n"
      ]
    },
    {
      "cell_type": "markdown",
      "source": [
        "# Exercise 7.2: OpenMP Directives and Clauses\n",
        "\n",
        "This exercise will guide you through the use of OpenMP directives and clauses, focusing on parallel regions, controlling the number of threads, and data sharing among threads.\n",
        "\n",
        "## 7.2.1 Parallel Regions\n",
        "A parallel region in OpenMP is a block of code that runs simultaneously across multiple threads. This is initiated using the `#pragma omp parallel` directive.\n",
        "\n",
        "### 7.2.1.1 num_threads Clause\n",
        "The `num_threads` clause specifies the exact number of threads to be used in the parallel region. This is important for optimizing performance and ensuring proper resource utilization.\n",
        "\n",
        "### 7.2.1.2 default Clause\n",
        "The `default` clause specifies the default data-sharing attributes for variables within a parallel region. It can be set to `shared`, `private`, or `none`, determining how variables are accessed by threads.\n",
        "\n",
        "## 7.2.2 Assigning the Number of Threads\n",
        "Assigning the number of threads can be done inside the code using the `num_threads` clause or outside the code using environment variables. Both methods have their own use cases and advantages.\n",
        "\n",
        "## 7.2.3 Work-sharing Constructs\n",
        "Work-sharing constructs in OpenMP, like `#pragma omp for` and `#pragma omp sections`, are used to divide tasks among threads, allowing for efficient parallel execution.\n"
      ],
      "metadata": {
        "id": "RDSK_fHYeKKz"
      }
    },
    {
      "cell_type": "code",
      "source": [
        "# Example of using OpenMP directives and clauses\n",
        "# Save this C code to a file named \"omp_directives.c\"\n",
        "\n",
        "omp_code = \"\"\"\n",
        "#include <omp.h>\n",
        "#include <stdio.h>\n",
        "\n",
        "int main() {\n",
        "    #pragma omp parallel num_threads(4)\n",
        "    {\n",
        "        int id = omp_get_thread_num();\n",
        "        int num_threads = omp_get_num_threads();\n",
        "        if (id == 0) {\n",
        "            printf(\"Total number of threads: %d\\\\n\", num_threads);\n",
        "        }\n",
        "        printf(\"Thread %d is running\\\\n\", id);\n",
        "    }\n",
        "    return 0;\n",
        "}\n",
        "\"\"\"\n",
        "\n",
        "# Write the OpenMP code to a file\n",
        "with open('omp_directives.c', 'w') as f:\n",
        "    f.write(omp_code)\n",
        "\n",
        "# Compile the OpenMP C code using GCC with the -fopenmp flag\n",
        "!gcc -fopenmp -o omp_directives omp_directives.c\n",
        "\n",
        "# Run the compiled program\n",
        "!./omp_directives\n"
      ],
      "metadata": {
        "colab": {
          "base_uri": "https://localhost:8080/"
        },
        "id": "BtpdreA9eMor",
        "outputId": "ffb5c2f7-3658-4b00-83f6-ed0e412a3087"
      },
      "execution_count": null,
      "outputs": [
        {
          "output_type": "stream",
          "name": "stdout",
          "text": [
            "Thread 3 is running\n",
            "Thread 2 is running\n",
            "Total number of threads: 4\n",
            "Thread 0 is running\n",
            "Thread 1 is running\n"
          ]
        }
      ]
    },
    {
      "cell_type": "markdown",
      "source": [
        "# Exercise 7.3: Data Environment in OpenMP\n",
        "\n",
        "This exercise explores the data-sharing clauses in OpenMP, including `shared`, `private`, `firstprivate`, and `reduction`, which control how variables are accessed and modified within parallel regions.\n",
        "\n",
        "## 7.3.1 Data Sharing Clauses\n",
        "### 7.3.1.1 Shared Clause\n",
        "The `shared` clause makes a variable accessible to all threads in a parallel region, which can lead to race conditions if not synchronized properly.\n",
        "\n",
        "### 7.3.1.2 Private Clause\n",
        "The `private` clause ensures that each thread has its own instance of a variable, which is useful for thread-specific computations.\n",
        "\n",
        "### 7.3.1.3 Firstprivate Clause\n",
        "The `firstprivate` clause initializes private variables with the value from the master thread, ensuring consistent initial states across threads.\n",
        "\n",
        "## 7.3.2 Reduction Clause\n",
        "The `reduction` clause is used to perform a reduction operation (e.g., sum, product) on variables across all threads, combining their results into a single value.\n"
      ],
      "metadata": {
        "id": "QBiu65VXeO8b"
      }
    },
    {
      "cell_type": "code",
      "source": [
        "# Example of using data-sharing clauses in OpenMP\n",
        "# Save this C code to a file named \"omp_data_clauses.c\"\n",
        "\n",
        "omp_data_code = \"\"\"\n",
        "#include <omp.h>\n",
        "#include <stdio.h>\n",
        "\n",
        "int main() {\n",
        "    int n = 1000;\n",
        "    int sum = 0;\n",
        "    int array[1000];\n",
        "\n",
        "    // Initialize the array\n",
        "    for (int i = 0; i < n; i++) {\n",
        "        array[i] = i + 1;\n",
        "    }\n",
        "\n",
        "    #pragma omp parallel for reduction(+:sum)\n",
        "    for (int i = 0; i < n; i++) {\n",
        "        sum += array[i];\n",
        "    }\n",
        "\n",
        "    printf(\"Total Sum: %d\\\\n\", sum); // Correct total sum\n",
        "    return 0;\n",
        "}\n",
        "\"\"\"\n",
        "\n",
        "# Write the OpenMP code to a file\n",
        "with open('omp_data_clauses.c', 'w') as f:\n",
        "    f.write(omp_data_code)\n",
        "\n",
        "# Compile the OpenMP C code using GCC with the -fopenmp flag\n",
        "!gcc -fopenmp -o omp_data_clauses omp_data_clauses.c\n",
        "\n",
        "# Run the compiled program\n",
        "!./omp_data_clauses\n"
      ],
      "metadata": {
        "colab": {
          "base_uri": "https://localhost:8080/"
        },
        "id": "09EWXueGeRCj",
        "outputId": "28acab8c-bd14-464a-ba65-676871ad38b4"
      },
      "execution_count": null,
      "outputs": [
        {
          "output_type": "stream",
          "name": "stdout",
          "text": [
            "Total Sum: 500500\n"
          ]
        }
      ]
    },
    {
      "cell_type": "markdown",
      "source": [
        "# Exercise 7.4: Synchronization Techniques in OpenMP\n",
        "\n",
        "In this exercise, you will learn about synchronization techniques in OpenMP, including critical sections, atomic operations, barriers, and locks.\n",
        "\n",
        "## 7.4.1 Critical Sections\n",
        "A critical section is a block of code that must be executed by only one thread at a time, ensuring mutual exclusion.\n",
        "\n",
        "## 7.4.2 Atomic Operations\n",
        "Atomic operations provide a lightweight synchronization mechanism for simple updates to shared variables.\n",
        "\n",
        "## 7.4.3 Barrier Synchronization\n",
        "The `#pragma omp barrier` directive ensures that all threads reach a specific point before any can proceed, useful for coordinating tasks.\n",
        "\n",
        "## 7.4.4 Locks\n",
        "Locks provide fine-grained control over access to critical sections, allowing threads to acquire and release locks manually.\n"
      ],
      "metadata": {
        "id": "SLhCRrUSebTN"
      }
    },
    {
      "cell_type": "code",
      "source": [
        "# Example of synchronization techniques in OpenMP\n",
        "# Save this C code to a file named \"omp_sync.c\"\n",
        "\n",
        "omp_sync_code = \"\"\"\n",
        "#include <omp.h>\n",
        "#include <stdio.h>\n",
        "\n",
        "int main() {\n",
        "    int balance = 0;\n",
        "    omp_lock_t lock;\n",
        "\n",
        "    omp_init_lock(&lock);\n",
        "\n",
        "    #pragma omp parallel for\n",
        "    for (int i = 0; i < 1000; i++) {\n",
        "        omp_set_lock(&lock);\n",
        "        balance += 1;\n",
        "        omp_unset_lock(&lock);\n",
        "    }\n",
        "\n",
        "    omp_destroy_lock(&lock);\n",
        "\n",
        "    printf(\"Final Balance: %d\\\\n\", balance);\n",
        "    return 0;\n",
        "}\n",
        "\"\"\"\n",
        "\n",
        "# Write the OpenMP code to a file\n",
        "with open('omp_sync.c', 'w') as f:\n",
        "    f.write(omp_sync_code)\n",
        "\n",
        "# Compile the OpenMP C code using GCC with the -fopenmp flag\n",
        "!gcc -fopenmp -o omp_sync omp_sync.c\n",
        "\n",
        "# Run the compiled program\n",
        "!./omp_sync\n"
      ],
      "metadata": {
        "colab": {
          "base_uri": "https://localhost:8080/"
        },
        "id": "f728xresejPZ",
        "outputId": "85be59c1-c75c-447f-b762-cb7729e890dd"
      },
      "execution_count": null,
      "outputs": [
        {
          "output_type": "stream",
          "name": "stdout",
          "text": [
            "Final Balance: 1000\n"
          ]
        }
      ]
    }
  ]
}