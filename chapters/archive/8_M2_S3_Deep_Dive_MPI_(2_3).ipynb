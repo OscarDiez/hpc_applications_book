{
  "nbformat": 4,
  "nbformat_minor": 0,
  "metadata": {
    "colab": {
      "provenance": []
    },
    "kernelspec": {
      "name": "python3",
      "display_name": "Python 3"
    },
    "language_info": {
      "name": "python"
    }
  },
  "cells": [
    {
      "cell_type": "markdown",
      "source": [
        "# 2.3 MPI"
      ],
      "metadata": {
        "id": "tzLmH2GLx159"
      }
    },
    {
      "cell_type": "markdown",
      "source": [
        "# Introduction to MPI in High-Performance Computing (HPC)\n",
        "\n",
        "High-Performance Computing (HPC) often involves running computational tasks that require massive parallelism across many processors. To achieve this, it's essential to use tools that can effectively manage communication between these processors.\n",
        "\n",
        "**Message Passing Interface (MPI)** is a standardized and portable message-passing system designed to function on a wide variety of parallel computing architectures. MPI is one of the cornerstones of parallel computing, particularly in distributed-memory systems, where each processor has its own memory and processors communicate by passing messages.\n",
        "\n",
        "In this lesson, we'll delve into the basics of MPI programming. You'll learn how to develop parallel applications that can efficiently communicate and share data across multiple processors. We'll explore MPI's core concepts through hands-on examples, starting with a simple yet powerful exercise known as the \"ping-pong\" example.\n"
      ],
      "metadata": {
        "id": "UaiQn6fCz5Mp"
      }
    },
    {
      "cell_type": "markdown",
      "source": [
        "# Overview of MPI Concepts\n",
        "\n",
        "Before diving into the code, it's important to understand some key concepts in MPI:\n",
        "\n",
        "- **Processes and Ranks**: In MPI, a process is an instance of a program running on a processor. Each process is assigned a unique identifier called a \"rank.\" The rank is used to identify and communicate with other processes.\n",
        "  \n",
        "- **Communicators**: A communicator defines a group of processes that can communicate with each other. The default communicator `MPI_COMM_WORLD` includes all the processes launched by the MPI program.\n",
        "\n",
        "- **Point-to-Point Communication**: This involves the direct sending and receiving of messages between two processes. MPI provides functions such as `MPI_Send` and `MPI_Recv` to facilitate this communication.\n",
        "\n",
        "- **Collective Communication**: This involves communication patterns where data is distributed among multiple processes or gathered from them. Examples include broadcast, scatter, and gather operations.\n",
        "\n",
        "These concepts form the foundation for writing parallel applications using MPI. Now, let's see how these concepts are applied in practice with the ping-pong example.\n"
      ],
      "metadata": {
        "id": "x08dzaR1z7NZ"
      }
    },
    {
      "cell_type": "markdown",
      "source": [
        "# Setting Up MPI in Google Colab\n",
        "\n",
        "To run MPI programs, we first need to set up the MPI environment in Google Colab. We will use Open MPI, a popular implementation of the MPI standard. The first step is to install the necessary MPI libraries and tools.\n"
      ],
      "metadata": {
        "id": "kJn_JJlLziBk"
      }
    },
    {
      "cell_type": "code",
      "execution_count": 6,
      "metadata": {
        "colab": {
          "base_uri": "https://localhost:8080/"
        },
        "id": "knlix2Waxzox",
        "outputId": "24bbcd69-e7d8-4760-bdfc-95f3e8921810"
      },
      "outputs": [
        {
          "output_type": "stream",
          "name": "stdout",
          "text": [
            "\r0% [Working]\r            \rHit:1 https://cloud.r-project.org/bin/linux/ubuntu jammy-cran40/ InRelease\n",
            "\r0% [Connecting to archive.ubuntu.com] [Connecting to security.ubuntu.com (185.125.190.82)] [Connecte\r                                                                                                    \rHit:2 https://developer.download.nvidia.com/compute/cuda/repos/ubuntu2204/x86_64  InRelease\n",
            "Ign:3 https://r2u.stat.illinois.edu/ubuntu jammy InRelease\n",
            "Hit:4 https://r2u.stat.illinois.edu/ubuntu jammy Release\n",
            "Hit:5 http://security.ubuntu.com/ubuntu jammy-security InRelease\n",
            "Hit:6 http://archive.ubuntu.com/ubuntu jammy InRelease\n",
            "Hit:8 http://archive.ubuntu.com/ubuntu jammy-updates InRelease\n",
            "Hit:9 http://archive.ubuntu.com/ubuntu jammy-backports InRelease\n",
            "Hit:10 https://ppa.launchpadcontent.net/deadsnakes/ppa/ubuntu jammy InRelease\n",
            "Hit:11 https://ppa.launchpadcontent.net/graphics-drivers/ppa/ubuntu jammy InRelease\n",
            "Hit:12 https://ppa.launchpadcontent.net/ubuntugis/ppa/ubuntu jammy InRelease\n",
            "Reading package lists... Done\n",
            "W: Skipping acquire of configured file 'main/source/Sources' as repository 'https://r2u.stat.illinois.edu/ubuntu jammy InRelease' does not seem to provide it (sources.list entry misspelt?)\n",
            "Reading package lists... Done\n",
            "Building dependency tree... Done\n",
            "Reading state information... Done\n",
            "mpich is already the newest version (4.0-3).\n",
            "0 upgraded, 0 newly installed, 0 to remove and 67 not upgraded.\n"
          ]
        }
      ],
      "source": [
        "# Install MPI (mpich) in Google Colab\n",
        "!apt-get update -y\n",
        "!apt-get install -y mpich\n"
      ]
    },
    {
      "cell_type": "code",
      "source": [
        "import os\n",
        "os.environ['OMPI_ALLOW_RUN_AS_ROOT'] = '1'\n",
        "os.environ['OMPI_ALLOW_RUN_AS_ROOT_CONFIRM'] = '1'\n"
      ],
      "metadata": {
        "id": "xuAiAn5df-te"
      },
      "execution_count": 7,
      "outputs": []
    },
    {
      "cell_type": "code",
      "source": [
        "import subprocess\n",
        "\n",
        "# 1. Write the C code to a file\n",
        "c_code = \"\"\"\n",
        "#include <stdio.h>\n",
        "#include <stdlib.h>\n",
        "#include <mpi.h>\n",
        "#include <string.h>\n",
        "\n",
        "int main(int argc,char **argv)\n",
        "{\n",
        "    int rank, size;\n",
        "    MPI_Init(&argc,&argv);\n",
        "    MPI_Comm_rank(MPI_COMM_WORLD,&rank);\n",
        "    MPI_Comm_size(MPI_COMM_WORLD,&size);\n",
        "\n",
        "    int message[2];    // buffer for sending and receiving messages\n",
        "    int dest, src;     // destination and source process variables\n",
        "    int tag = 0;\n",
        "    MPI_Status status;\n",
        "\n",
        "    // This example has to be run on more than one process\n",
        "    if (size == 1) {\n",
        "        printf(\"This example requires >1 process to execute\\\\n\");\n",
        "        MPI_Finalize();\n",
        "        exit(0);\n",
        "    }\n",
        "\n",
        "    if (rank != 0) {\n",
        "        // If not rank 0, send message to rank 0\n",
        "        message[0] = rank;\n",
        "        message[1] = size;\n",
        "        dest = 0;  // send all messages to rank 0\n",
        "        MPI_Send(message, 2, MPI_INT, dest, tag, MPI_COMM_WORLD);\n",
        "    } else {\n",
        "        // If rank 0, receive messages from everybody else\n",
        "        for (src = 1; src < size; src++) {\n",
        "            MPI_Recv(message, 2, MPI_INT, src, MPI_ANY_TAG, MPI_COMM_WORLD, &status);\n",
        "            // prints message just received. Notice it will print in rank\n",
        "            // order since the loop is in rank order.\n",
        "            printf(\"Hello from process %d of %d\\\\n\", message[0], message[1]);\n",
        "        }\n",
        "    }\n",
        "\n",
        "    MPI_Finalize();\n",
        "    return 0;\n",
        "}\n",
        "\"\"\"\n",
        "\n",
        "# Write the C code to a file\n",
        "with open(\"mpi_program.c\", \"w\") as c_file:\n",
        "    c_file.write(c_code)\n",
        "\n",
        "print(\"C program written to 'mpi_program.c'\")\n",
        "\n",
        "# 2. Compile the C code using mpicc\n",
        "compile_command = [\"mpicc\", \"-o\", \"mpi_program\", \"mpi_program.c\"]\n",
        "subprocess.run(compile_command, check=True)\n",
        "print(\"C program compiled successfully\")\n",
        "\n",
        "# 3. Run the compiled program with 4 nodes and allow oversubscription\n",
        "run_command = [\"mpirun\", \"--oversubscribe\", \"-np\", \"4\", \"./mpi_program\"]\n",
        "try:\n",
        "    result = subprocess.run(run_command, check=True, stdout=subprocess.PIPE, stderr=subprocess.PIPE)\n",
        "    print(result.stdout.decode())  # Output from the command\n",
        "except subprocess.CalledProcessError as e:\n",
        "    print(\"Error occurred while running MPI program:\", e.stderr.decode())  # Print error output\n"
      ],
      "metadata": {
        "id": "8e03ilEFgDbm",
        "outputId": "9e5bc207-d70b-4589-a3be-71ac98a0aa97",
        "colab": {
          "base_uri": "https://localhost:8080/"
        }
      },
      "execution_count": 14,
      "outputs": [
        {
          "output_type": "stream",
          "name": "stdout",
          "text": [
            "C program written to 'mpi_program.c'\n",
            "C program compiled successfully\n",
            "Hello from process 1 of 4\n",
            "Hello from process 2 of 4\n",
            "Hello from process 3 of 4\n",
            "\n"
          ]
        }
      ]
    },
    {
      "cell_type": "markdown",
      "source": [
        "# The Ping-Pong Example\n",
        "\n",
        "The \"ping-pong\" program is a classic introductory example in MPI programming. It demonstrates how two processes can communicate by passing a message (or \"ping-pong ball\") back and forth. The program consists of two main steps:\n",
        "\n",
        "1. **Initialization**: Both processes initialize MPI, get their ranks, and determine who they will communicate with.\n",
        "\n",
        "2. **Message Passing**: The two processes take turns sending and receiving a message, incrementing a counter each time the message is passed. The process with rank 0 starts by sending the message to process 1. The message continues to be passed back and forth until a predefined count is reached.\n",
        "\n",
        "This example helps you understand the basic mechanics of point-to-point communication in MPI, including how messages are sent and received and how the rank of a process determines its role in the communication.\n"
      ],
      "metadata": {
        "id": "Iz55jagIz-RB"
      }
    },
    {
      "cell_type": "code",
      "source": [
        "import os\n",
        "os.environ['OMPI_ALLOW_RUN_AS_ROOT'] = '1'\n",
        "os.environ['OMPI_ALLOW_RUN_AS_ROOT_CONFIRM'] = '1'\n"
      ],
      "metadata": {
        "id": "v9D0EVJIypGn"
      },
      "execution_count": 10,
      "outputs": []
    },
    {
      "cell_type": "code",
      "source": [
        "# Write the MPI ping pong example to a file\n",
        "mpi_code = \"\"\"\n",
        "#include <mpi.h>\n",
        "#include <stdio.h>\n",
        "\n",
        "int main(int argc, char** argv) {\n",
        "    MPI_Init(NULL, NULL);\n",
        "\n",
        "    int world_rank;\n",
        "    MPI_Comm_rank(MPI_COMM_WORLD, &world_rank);\n",
        "\n",
        "    int world_size;\n",
        "    MPI_Comm_size(MPI_COMM_WORLD, &world_size);\n",
        "\n",
        "    // We are assuming at least 2 processes for this task\n",
        "    if (world_size < 2) {\n",
        "        fprintf(stderr, \"World size must be greater than 1 for %s\\\\n\", argv[0]);\n",
        "        MPI_Abort(MPI_COMM_WORLD, 1);\n",
        "    }\n",
        "\n",
        "    int ping_pong_count = 0;\n",
        "    int partner_rank = (world_rank + 1) % 2;\n",
        "    while (ping_pong_count < 10) {\n",
        "        if (world_rank == ping_pong_count % 2) {\n",
        "            // Increment the ping pong count before you send it\n",
        "            ping_pong_count++;\n",
        "            MPI_Send(&ping_pong_count, 1, MPI_INT, partner_rank, 0, MPI_COMM_WORLD);\n",
        "            printf(\"Process %d sent ping_pong_count %d to process %d\\\\n\", world_rank, ping_pong_count, partner_rank);\n",
        "        } else {\n",
        "            MPI_Recv(&ping_pong_count, 1, MPI_INT, partner_rank, 0, MPI_COMM_WORLD, MPI_STATUS_IGNORE);\n",
        "            printf(\"Process %d received ping_pong_count %d from process %d\\\\n\", world_rank, ping_pong_count, partner_rank);\n",
        "        }\n",
        "    }\n",
        "\n",
        "    MPI_Finalize();\n",
        "    return 0;\n",
        "}\n",
        "\"\"\"\n",
        "\n",
        "with open('ping_pong.c', 'w') as f:\n",
        "    f.write(mpi_code)\n"
      ],
      "metadata": {
        "id": "9bdZVqt2yAhd"
      },
      "execution_count": 11,
      "outputs": []
    },
    {
      "cell_type": "markdown",
      "source": [
        "## MPI Ping Pong Example Explained\n",
        "\n",
        "The code provided implements a simple MPI (Message Passing Interface) \"ping pong\" program. This program demonstrates the basic concepts of point-to-point communication between two processes in an MPI environment. Below is a detailed explanation of the code.\n",
        "\n",
        "### Code Overview\n",
        "\n",
        "1. **Initialization**:\n",
        "   - `MPI_Init(NULL, NULL);`: Initializes the MPI environment. This must be called before any other MPI function. The `argc` and `argv` parameters allow MPI to take command-line arguments if needed.\n",
        "\n",
        "2. **Rank and Size**:\n",
        "   - `MPI_Comm_rank(MPI_COMM_WORLD, &world_rank);`: Determines the rank of the calling process in the communicator `MPI_COMM_WORLD`. The rank is the unique ID assigned to each process within the communicator, starting from 0.\n",
        "   - `MPI_Comm_size(MPI_COMM_WORLD, &world_size);`: Determines the number of processes in the communicator `MPI_COMM_WORLD`.\n",
        "\n",
        "3. **Error Checking**:\n",
        "   - The program assumes at least two processes for this example. If fewer than two processes are available, the program prints an error message and aborts using `MPI_Abort`.\n",
        "\n",
        "4. **Ping Pong Logic**:\n",
        "   - The `ping_pong_count` variable tracks the number of messages sent back and forth.\n",
        "   - `partner_rank = (world_rank + 1) % 2;`: Each process calculates the rank of its partner process. For two processes, rank 0's partner is rank 1, and rank 1's partner is rank 0.\n",
        "   - The `while` loop continues until `ping_pong_count` reaches 10. The processes alternate sending and receiving the `ping_pong_count` value.\n",
        "     - **Sending**: If the current process's rank matches the current `ping_pong_count % 2`, it increments the `ping_pong_count`, sends it to the partner process, and prints a message.\n",
        "     - **Receiving**: If the current process's rank does not match `ping_pong_count % 2`, it waits to receive the `ping_pong_count` from the partner process and then prints a message.\n",
        "\n",
        "5. **Finalization**:\n",
        "   - `MPI_Finalize();`: Cleans up the MPI environment. No MPI functions should be called after this.\n",
        "\n",
        "### Key Concepts\n",
        "\n",
        "- **MPI_Comm_rank** and **MPI_Comm_size** are essential for identifying the process and determining the total number of processes involved.\n",
        "- **MPI_Send** and **MPI_Recv** are basic point-to-point communication functions, used here to send and receive the `ping_pong_count` variable between the two processes.\n",
        "- **Synchronization**: The processes are synchronized via alternating sends and receives, ensuring that the ping pong count is passed back and forth correctly.\n",
        "\n",
        "### Example Output\n",
        "\n",
        "When you run this program with two processes, the output will look something like this:\n",
        "\n"
      ],
      "metadata": {
        "id": "UfdZKptu1lrj"
      }
    },
    {
      "cell_type": "code",
      "source": [
        "# Compile the MPI program\n",
        "!mpicc -o ping_pong ping_pong.c\n"
      ],
      "metadata": {
        "id": "4YOMgP63yD6k"
      },
      "execution_count": 12,
      "outputs": []
    },
    {
      "cell_type": "code",
      "source": [
        "# Run the MPI program with 3 processes and allow running as root, with oversubscription\n",
        "!mpirun --oversubscribe -np 3 ./ping_pong\n"
      ],
      "metadata": {
        "colab": {
          "base_uri": "https://localhost:8080/"
        },
        "id": "ji8gZ2XHy23P",
        "outputId": "08aafe25-74aa-4a19-9417-7c610a3b2574"
      },
      "execution_count": null,
      "outputs": [
        {
          "output_type": "stream",
          "name": "stdout",
          "text": [
            "Process 1 received ping_pong_count 1 from process 0\n",
            "Process 0 sent ping_pong_count 1 to process 1\n",
            "Process 1 sent ping_pong_count 2 to process 0\n",
            "Process 0 received ping_pong_count 2 from process 1\n",
            "Process 0 sent ping_pong_count 3 to process 1\n",
            "Process 1 received ping_pong_count 3 from process 0\n",
            "Process 1 sent ping_pong_count 4 to process 0\n",
            "Process 0 received ping_pong_count 4 from process 1\n",
            "Process 0 sent ping_pong_count 5 to process 1\n",
            "Process 1 received ping_pong_count 5 from process 0\n",
            "Process 1 sent ping_pong_count 6 to process 0\n",
            "Process 0 received ping_pong_count 6 from process 1\n",
            "Process 0 sent ping_pong_count 7 to process 1\n",
            "Process 1 received ping_pong_count 7 from process 0\n",
            "Process 1 sent ping_pong_count 8 to process 0\n",
            "Process 0 received ping_pong_count 8 from process 1\n",
            "Process 0 sent ping_pong_count 9 to process 1\n",
            "Process 1 received ping_pong_count 9 from process 0\n",
            "Process 1 sent ping_pong_count 10 to process 0\n",
            "Process 0 received ping_pong_count 10 from process 1\n"
          ]
        }
      ]
    },
    {
      "cell_type": "markdown",
      "source": [],
      "metadata": {
        "id": "3O5wpKDy0Eor"
      }
    },
    {
      "cell_type": "markdown",
      "source": [
        "## Advanced MPI Example: Point-to-Point vs Collective Operations\n",
        "\n",
        "In this section, we will explore a more complex MPI example that illustrates the difference between point-to-point and collective operations. The program will use both types of MPI communication to demonstrate how they work and when each is appropriate.\n",
        "\n",
        "### Code Overview\n",
        "\n",
        "The program performs the following tasks:\n",
        "1. **Initialization**:\n",
        "   - As in the previous example, the program starts by initializing the MPI environment and determining the rank and size of the processes.\n",
        "\n",
        "2. **Data Distribution Using Point-to-Point Communication**:\n",
        "   - Each process sends data to the next process in a ring-like fashion using `MPI_Send` and `MPI_Recv`.\n",
        "   - This operation mimics a manual data distribution where each process explicitly sends and receives data to and from its neighbors.\n",
        "\n",
        "3. **Data Collection Using Collective Communication**:\n",
        "   - All processes send their data to a root process using `MPI_Gather`, a collective operation that collects data from all processes and assembles it in the root process.\n",
        "\n",
        "4. **Broadcasting Data Using Collective Communication**:\n",
        "   - The root process broadcasts data to all other processes using `MPI_Bcast`, another collective operation that efficiently distributes data from one process to all others.\n",
        "\n",
        "5. **Finalization**:\n",
        "   - The program concludes by finalizing the MPI environment.\n",
        "\n",
        "### Detailed Explanation\n",
        "\n",
        "1. **Initialization**:\n",
        "   - `MPI_Init(NULL, NULL);`: Initializes the MPI environment.\n",
        "   - `MPI_Comm_rank(MPI_COMM_WORLD, &world_rank);`: Retrieves the rank (ID) of the calling process.\n",
        "   - `MPI_Comm_size(MPI_COMM_WORLD, &world_size);`: Retrieves the total number of processes.\n",
        "\n",
        "2. **Point-to-Point Communication**:\n",
        "   - **Sending Data**: Each process sends data to its neighbor using `MPI_Send`. For example, process 0 sends data to process 1, process 1 sends data to process 2, and so on. The last process sends data back to process 0, forming a ring.\n",
        "   - **Receiving Data**: Simultaneously, each process receives data from its neighbor using `MPI_Recv`.\n",
        "   - This operation is highly manual, as each process must explicitly specify the sender and receiver.\n",
        "\n",
        "3. **Collective Communication - Gathering Data**:\n",
        "   - **MPI_Gather**: This operation is used to collect data from all processes and store it in a single root process. Each process sends its data to the root, where it is gathered into a single array or list.\n",
        "   - Unlike point-to-point communication, `MPI_Gather` simplifies the process by automatically handling the collection of data from all processes.\n",
        "\n",
        "4. **Collective Communication - Broadcasting Data**:\n",
        "   - **MPI_Bcast**: This operation broadcasts data from the root process to all other processes. It is an efficient way to distribute the same data to all processes in the communicator.\n",
        "   - The root process sends its data once, and `MPI_Bcast` ensures that all processes receive it.\n",
        "\n",
        "5. **Finalization**:\n",
        "   - `MPI_Finalize();`: Cleans up the MPI environment.\n",
        "\n",
        "### Key Concepts\n",
        "\n",
        "- **Point-to-Point Communication**:\n",
        "  - `MPI_Send` and `MPI_Recv` are used for direct communication between two processes.\n",
        "  - This method is flexible but requires explicit management of senders and receivers, which can become complex in larger programs.\n",
        "\n",
        "- **Collective Communication**:\n",
        "  - `MPI_Gather` and `MPI_Bcast` are collective operations that involve all processes in the communicator.\n",
        "  - Collective operations are generally easier to use for common communication patterns, such as gathering data from all processes or broadcasting data to all processes.\n",
        "  - Collective operations are often more efficient than equivalent point-to-point operations, especially on large numbers of processes.\n",
        "\n",
        "### Example Output\n",
        "\n",
        "Running this program with four processes might produce output similar to the following:\n",
        "\n"
      ],
      "metadata": {
        "id": "NvaMaf90bb8k"
      }
    },
    {
      "cell_type": "code",
      "source": [
        "# Save the MPI C code to a file\n",
        "mpi_code = \"\"\"\n",
        "#include <mpi.h>\n",
        "#include <stdio.h>\n",
        "#include <stdlib.h>\n",
        "\n",
        "int main(int argc, char** argv) {\n",
        "    MPI_Init(NULL, NULL);\n",
        "\n",
        "    int world_rank;\n",
        "    MPI_Comm_rank(MPI_COMM_WORLD, &world_rank);\n",
        "\n",
        "    int world_size;\n",
        "    MPI_Comm_size(MPI_COMM_WORLD, &world_size);\n",
        "\n",
        "    // Allocate some space for data\n",
        "    int data = 100 + world_rank;  // Unique data for each process\n",
        "\n",
        "    // Point-to-Point Communication: Ring Data Exchange\n",
        "    int next_rank = (world_rank + 1) % world_size;\n",
        "    int prev_rank = (world_rank - 1 + world_size) % world_size;\n",
        "    int received_data;\n",
        "\n",
        "    // Send data to the next process and receive data from the previous process\n",
        "    MPI_Send(&data, 1, MPI_INT, next_rank, 0, MPI_COMM_WORLD);\n",
        "    MPI_Recv(&received_data, 1, MPI_INT, prev_rank, 0, MPI_COMM_WORLD, MPI_STATUS_IGNORE);\n",
        "\n",
        "    printf(\"Process %d sent data %d to process %d and received data %d from process %d\\\\n\",\n",
        "            world_rank, data, next_rank, received_data, prev_rank);\n",
        "\n",
        "    // Collective Communication: Gather data at root\n",
        "    int* gathered_data = NULL;\n",
        "    if (world_rank == 0) {\n",
        "        gathered_data = (int*)malloc(sizeof(int) * world_size);\n",
        "    }\n",
        "    MPI_Gather(&data, 1, MPI_INT, gathered_data, 1, MPI_INT, 0, MPI_COMM_WORLD);\n",
        "\n",
        "    if (world_rank == 0) {\n",
        "        printf(\"Root process %d gathered data: \", world_rank);\n",
        "        for (int i = 0; i < world_size; i++) {\n",
        "            printf(\"%d \", gathered_data[i]);\n",
        "        }\n",
        "        printf(\"\\\\n\");\n",
        "        free(gathered_data);\n",
        "    }\n",
        "\n",
        "    // Collective Communication: Broadcast data from root to all processes\n",
        "    int broadcast_data = 500;\n",
        "    if (world_rank == 0) {\n",
        "        broadcast_data = 500;  // Root sets the data to be broadcasted\n",
        "    }\n",
        "    MPI_Bcast(&broadcast_data, 1, MPI_INT, 0, MPI_COMM_WORLD);\n",
        "\n",
        "    printf(\"Process %d received broadcast data: %d\\\\n\", world_rank, broadcast_data);\n",
        "\n",
        "    MPI_Finalize();\n",
        "    return 0;\n",
        "}\n",
        "\"\"\"\n",
        "\n",
        "# Write the MPI code to a file\n",
        "with open('mpi_example.c', 'w') as f:\n",
        "    f.write(mpi_code)\n",
        "\n",
        "# Compile the MPI C code\n",
        "!mpicc -o mpi_example mpi_example.c\n",
        "\n",
        "# Run the compiled MPI program with 4 processes\n",
        "!mpirun --oversubscribe -np 4 ./mpi_example\n"
      ],
      "metadata": {
        "colab": {
          "base_uri": "https://localhost:8080/"
        },
        "id": "KErOIf_NbdBc",
        "outputId": "0aa11de1-3ca6-4ec0-ab7c-537b09089552"
      },
      "execution_count": null,
      "outputs": [
        {
          "output_type": "stream",
          "name": "stdout",
          "text": [
            "Process 3 sent data 103 to process 0 and received data 102 from process 2\n",
            "Process 0 sent data 100 to process 1 and received data 103 from process 3\n",
            "Process 1 sent data 101 to process 2 and received data 100 from process 0\n",
            "Process 2 sent data 102 to process 3 and received data 101 from process 1\n",
            "Root process 0 gathered data: 100 101 102 103 \n",
            "Process 0 received broadcast data: 500\n",
            "Process 2 received broadcast data: 500\n",
            "Process 1 received broadcast data: 500\n",
            "Process 3 received broadcast data: 500\n"
          ]
        }
      ]
    },
    {
      "cell_type": "markdown",
      "source": [
        "## Explanation of the MPI Program Output\n",
        "\n",
        "The output of the MPI program provides insight into how the data was communicated between processes using both point-to-point and collective operations. Let's break down the key parts of the output.\n",
        "\n",
        "### Point-to-Point Communication (Ring Data Exchange)\n",
        "\n",
        "Each process sends its data to the next process in a circular manner (ring topology) and receives data from the previous process:\n",
        "\n",
        "- **Process 3 sent data 103 to process 0 and received data 102 from process 2**\n",
        "  - Process 3 sends its data (103) to process 0.\n",
        "  - Simultaneously, it receives data (102) from process 2.\n",
        "  \n",
        "- **Process 0 sent data 100 to process 1 and received data 103 from process 3**\n",
        "  - Process 0 sends its data (100) to process 1.\n",
        "  - Simultaneously, it receives data (103) from process 3.\n",
        "  \n",
        "- **Process 1 sent data 101 to process 2 and received data 100 from process 0**\n",
        "  - Process 1 sends its data (101) to process 2.\n",
        "  - Simultaneously, it receives data (100) from process 0.\n",
        "  \n",
        "- **Process 2 sent data 102 to process 3 and received data 101 from process 1**\n",
        "  - Process 2 sends its data (102) to process 3.\n",
        "  - Simultaneously, it receives data (101) from process 1.\n",
        "\n",
        "This part of the output shows that each process successfully communicated with its neighbors in the ring. The data exchange is point-to-point, meaning each process explicitly sends and receives data from specific processes.\n",
        "\n",
        "### Collective Communication - Gathering Data\n",
        "\n",
        "After the point-to-point communication, the program uses a collective operation, `MPI_Gather`, to collect data from all processes at the root process (process 0):\n",
        "\n",
        "- **Root process 0 gathered data: 100 101 102 103**\n",
        "  - The root process (process 0) gathers data from all processes in the communicator.\n",
        "  - The gathered data consists of the data from each process: 100 from process 0, 101 from process 1, 102 from process 2, and 103 from process 3.\n",
        "  \n",
        "This output confirms that the `MPI_Gather` operation successfully collected data from all processes into the root process.\n",
        "\n",
        "### Collective Communication - Broadcasting Data\n",
        "\n",
        "Finally, the program uses another collective operation, `MPI_Bcast`, to broadcast data from the root process (process 0) to all other processes:\n",
        "\n",
        "- **Process 0 received broadcast data: 500**\n",
        "- **Process 2 received broadcast data: 500**\n",
        "- **Process 1 received broadcast data: 500**\n",
        "- **Process 3 received broadcast data: 500**\n",
        "\n",
        "Here, the data value `500` is broadcasted by the root process (process 0) to all other processes. Each process receives this data and prints it, confirming that the broadcast was successful.\n",
        "\n",
        "### Summary\n",
        "\n",
        "- **Point-to-Point Communication**: The data exchange between processes in a ring topology demonstrates how processes can communicate directly with each other using `MPI_Send` and `MPI_Recv`.\n",
        "- **Collective Communication - Gathering**: The `MPI_Gather` operation collects data from all processes and assembles it in the root process.\n",
        "- **Collective Communication - Broadcasting**: The `MPI_Bcast` operation efficiently distributes data from one process (the root) to all other processes.\n",
        "\n",
        "This output provides a clear example of both point-to-point and collective communication in an MPI program, showcasing how data can be exchanged and distributed among processes in a parallel computing environment.\n"
      ],
      "metadata": {
        "id": "hIwEzyYucX7W"
      }
    },
    {
      "cell_type": "code",
      "source": [],
      "metadata": {
        "id": "nQqWY3MHcYy0"
      },
      "execution_count": null,
      "outputs": []
    }
  ]
}