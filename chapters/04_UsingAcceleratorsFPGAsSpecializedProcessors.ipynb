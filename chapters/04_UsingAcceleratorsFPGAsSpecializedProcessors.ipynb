{
  "nbformat": 4,
  "nbformat_minor": 0,
  "metadata": {
    "colab": {
      "provenance": []
    },
    "kernelspec": {
      "name": "python3",
      "display_name": "Python 3"
    },
    "language_info": {
      "name": "python"
    }
  },
  "cells": [
    {
      "cell_type": "markdown",
      "source": [
        "# FPGA AND Gate Simulation with Verilator in Colab\n",
        "\n",
        "This guide walks through the process of simulating an AND gate implemented in Verilog and tested using a C++ testbench in Google Colab.\n",
        "\n",
        "### Step 1: Install Verilator\n",
        "\n",
        "To simulate Verilog code in Colab, you need to install Verilator, a tool for Verilog HDL simulation.\n",
        "\n",
        "```bash\n",
        "!apt-get install verilator\n",
        "```\n",
        "Step 2: Create the Verilog AND Gate Module (and_gate.v)\n",
        "The following Verilog code defines a simple AND gate. We'll create a file called and_gate.v and write the module code into it.\n",
        "\n",
        "```\n",
        "and_gate_verilog = \"\"\"\n",
        "module and_gate (\n",
        "    input wire a,\n",
        "    input wire b,\n",
        "    output wire y\n",
        ");\n",
        "    assign y = a & b;\n",
        "endmodule\n",
        "\"\"\"\n",
        "\n",
        "with open(\"and_gate.v\", \"w\") as f:\n",
        "    f.write(and_gate_verilog)\n",
        "```\n",
        "Step 3: Create the C++ Testbench (main.cpp)\n",
        "Next, we create a C++ testbench that will test all possible input combinations for the AND gate. This file will be written to main.cpp.\n",
        "\n",
        "Step 4: Compile the Verilog Code with Verilator\n",
        "We use Verilator to compile the Verilog file into C++ and link it with the testbench. The --cc flag tells Verilator to generate C++ code, and the --exe flag specifies the C++ testbench.\n",
        "\n",
        "```\n",
        "!verilator --cc and_gate.v --exe main.cpp\n",
        "```\n",
        "\n",
        "Step 5: Build the Simulation\n",
        "After generating the C++ code, we use make to compile the simulation. This command builds the simulation from the generated files.\n",
        "\n",
        "```\n",
        "!make -j -C obj_dir -f Vand_gate.mk Vand_gate\n",
        "```\n",
        "\n",
        "Step 6: Run the Simulation and Capture the Output\n",
        "Finally, we run the compiled simulation and print the results.\n",
        "\n",
        "```\n",
        "simulation_output = !./obj_dir/Vand_gate\n",
        "print(\"\\n\".join(simulation_output))\n",
        "```\n",
        "\n",
        "Explanation\n",
        "Verilog AND Gate: The Verilog module implements a basic two-input AND gate.\n",
        "C++ Testbench: The testbench runs through all input combinations (00, 01, 10, 11) and displays the corresponding output.\n",
        "Verilator: This tool translates Verilog into C++ and links it to the testbench for simulation."
      ],
      "metadata": {
        "id": "ZP3Ba33xz74h"
      }
    },
    {
      "cell_type": "code",
      "source": [
        "# Install Verilator\n",
        "!sudo apt-get update > /dev/null\n",
        "!sudo apt-get install -y verilator > /dev/null"
      ],
      "metadata": {
        "colab": {
          "base_uri": "https://localhost:8080/"
        },
        "id": "hgBTsiejzWm5",
        "outputId": "302a2cac-786c-4319-eb1a-7de569560072"
      },
      "execution_count": 24,
      "outputs": [
        {
          "output_type": "stream",
          "name": "stdout",
          "text": [
            "W: Skipping acquire of configured file 'main/source/Sources' as repository 'https://r2u.stat.illinois.edu/ubuntu jammy InRelease' does not seem to provide it (sources.list entry misspelt?)\n"
          ]
        }
      ]
    },
    {
      "cell_type": "code",
      "source": [
        "# Verify Verilator installation\n",
        "!verilator --version"
      ],
      "metadata": {
        "colab": {
          "base_uri": "https://localhost:8080/"
        },
        "id": "E59HfDrHzeco",
        "outputId": "8d964cd3-ec94-4c68-a214-28fe0bb1dd02"
      },
      "execution_count": 26,
      "outputs": [
        {
          "output_type": "stream",
          "name": "stdout",
          "text": [
            "Verilator 4.038 2020-07-11 rev v4.036-114-g0cd4a57ad\n"
          ]
        }
      ]
    },
    {
      "cell_type": "code",
      "source": [
        "# Step 2: Create the Verilog AND gate module (and_gate.v)\n",
        "and_gate_verilog = \"\"\"\n",
        "module and_gate (\n",
        "    input wire a,\n",
        "    input wire b,\n",
        "    output wire y\n",
        ");\n",
        "    assign y = a & b;\n",
        "endmodule\n",
        "\"\"\"\n",
        "\n",
        "with open(\"and_gate.v\", \"w\") as f:\n",
        "    f.write(and_gate_verilog)\n",
        "\n",
        "# Step 3: Create the C++ testbench (main.cpp) with corrected string literals\n",
        "main_cpp = \"\"\"\n",
        "#include \"Vand_gate.h\"\n",
        "#include \"verilated.h\"\n",
        "#include <iostream>\n",
        "\n",
        "int main(int argc, char **argv) {\n",
        "    // Initialize Verilated\n",
        "    Verilated::commandArgs(argc, argv);\n",
        "    Vand_gate* top = new Vand_gate;\n",
        "\n",
        "    // Display header\n",
        "    std::cout << \"Simulating AND Gate:\\\\n\";\n",
        "    std::cout << \"a | b | y\\\\n\";\n",
        "    std::cout << \"---------\\\\n\";\n",
        "\n",
        "    // Iterate through all possible input combinations\n",
        "    for(int i = 0; i < 4; i++) {\n",
        "        // Set inputs\n",
        "        top->a = (i & 0x1);\n",
        "        top->b = ((i >> 1) & 0x1);\n",
        "\n",
        "        // Evaluate the model\n",
        "        top->eval();\n",
        "\n",
        "        // Display the results\n",
        "        std::cout << top->a << \" | \" << top->b << \" | \" << top->y << \"\\\\n\";\n",
        "    }\n",
        "\n",
        "    // Finalize simulation\n",
        "    top->final();\n",
        "    delete top;\n",
        "    return 0;\n",
        "}\n",
        "\"\"\"\n",
        "\n",
        "with open(\"main.cpp\", \"w\") as f:\n",
        "    f.write(main_cpp)\n",
        "\n",
        "# Step 4: Compile the Verilog code with Verilator\n",
        "# The --cc flag tells Verilator to generate C++ code\n",
        "# The --exe flag specifies that we are providing a C++ testbench\n",
        "!verilator --cc and_gate.v --exe main.cpp\n",
        "\n",
        "# Step 5: Build the simulation using make\n",
        "# The -j flag allows make to run in parallel\n",
        "!make -j -C obj_dir -f Vand_gate.mk Vand_gate\n",
        "\n",
        "# Step 6: Run the simulation and capture the output\n",
        "simulation_output = !./obj_dir/Vand_gate\n",
        "\n",
        "# Display the simulation results\n",
        "print(\"\\n\".join(simulation_output))\n"
      ],
      "metadata": {
        "colab": {
          "base_uri": "https://localhost:8080/"
        },
        "id": "0vSss2YlzTRI",
        "outputId": "77e081fa-6c26-423b-883d-742599a588bc"
      },
      "execution_count": 28,
      "outputs": [
        {
          "output_type": "stream",
          "name": "stdout",
          "text": [
            "make: Entering directory '/content/obj_dir'\n",
            "g++  -I.  -MMD -I/usr/share/verilator/include -I/usr/share/verilator/include/vltstd -DVM_COVERAGE=0 -DVM_SC=0 -DVM_TRACE=0 -faligned-new -fcf-protection=none -Wno-bool-operation -Wno-sign-compare -Wno-uninitialized -Wno-unused-but-set-variable -Wno-unused-parameter -Wno-unused-variable -Wno-shadow      -Os -c -o main.o ../main.cpp\n",
            "/usr/bin/perl /usr/share/verilator/bin/verilator_includer -DVL_INCLUDE_OPT=include Vand_gate.cpp Vand_gate__Slow.cpp Vand_gate__Syms.cpp > Vand_gate__ALL.cpp\n",
            "g++  -I.  -MMD -I/usr/share/verilator/include -I/usr/share/verilator/include/vltstd -DVM_COVERAGE=0 -DVM_SC=0 -DVM_TRACE=0 -faligned-new -fcf-protection=none -Wno-bool-operation -Wno-sign-compare -Wno-uninitialized -Wno-unused-but-set-variable -Wno-unused-parameter -Wno-unused-variable -Wno-shadow      -Os -c -o Vand_gate__ALL.o Vand_gate__ALL.cpp\n",
            "ar -cr Vand_gate__ALL.a Vand_gate__ALL.o\n",
            "ranlib Vand_gate__ALL.a\n",
            "g++    main.o verilated.o Vand_gate__ALL.a      -o Vand_gate\n",
            "make: Leaving directory '/content/obj_dir'\n",
            "Simulating AND Gate:\n",
            "a | b | y\n",
            "---------\n",
            "\u0000 | \u0000 | \u0000\n",
            "\u0001 | \u0000 | \u0000\n",
            "\u0000 | \u0001 | \u0000\n",
            "\u0001 | \u0001 | \u0001\n"
          ]
        }
      ]
    },
    {
      "cell_type": "markdown",
      "source": [
        "------\n",
        "-------\n",
        "STOP HERE. Codee below is not working properly in in Colab\n",
        "-------\n",
        "-------\n"
      ],
      "metadata": {
        "id": "3O8t6bnW1MoB"
      }
    },
    {
      "cell_type": "markdown",
      "source": [
        "# OpenCL Programming for FPGAs\n",
        "\n",
        "## OpenCL Overview\n",
        "- **Framework for parallel programming**\n",
        "- **Supports heterogeneous systems**\n",
        "\n",
        "## Advantages for FPGAs\n",
        "- Portability across hardware\n",
        "- High-level abstraction for parallelism\n",
        "- Simplifies parallel computation\n",
        "- Reusable code across different devices\n",
        "\n",
        "## Use Cases\n",
        "- Image processing\n",
        "- Data analytics\n",
        "\n",
        "## Tool Support\n",
        "- Intel and Xilinx OpenCL implementations\n",
        "\n",
        "## Example: Vector Addition in OpenCL\n",
        "\n",
        "```c\n",
        "__kernel void vector_add(__global const int* A, __global const int* B, __global int* C, int N) {\n",
        "    int id = get_global_id(0);\n",
        "    if (id < N) {\n",
        "        C[id] = A[id] + B[id];\n",
        "    }\n",
        "}\n"
      ],
      "metadata": {
        "id": "NSlV0lia09-X"
      }
    },
    {
      "cell_type": "markdown",
      "source": [
        "\n",
        "### Colab Code to Run (OpenCL Setup):\n",
        "Unfortunately, Colab does not natively support FPGA execution or OpenCL directly, but you can experiment with OpenCL code on a local machine or through specialized cloud FPGA services like Intel DevCloud or Xilinx Vitis.\n",
        "\n",
        "Here’s an example of how you can structure your code for local execution:\n",
        "\n",
        "#### Colab: Preparing OpenCL environment\n",
        "```bash\n",
        "# Install dependencies (if running locally or on cloud platforms like Intel DevCloud)\n",
        "!apt-get install ocl-icd-opencl-dev\n",
        "!apt-get install clinfo\n",
        "\n",
        "# Check if OpenCL is available\n",
        "!clinfo\n"
      ],
      "metadata": {
        "id": "B7xVupyk1F_Z"
      }
    },
    {
      "cell_type": "code",
      "source": [
        "#include <CL/cl.h>\n",
        "#include <iostream>\n",
        "#include <vector>\n",
        "\n",
        "// Size of the vector\n",
        "#define N 1024\n",
        "\n",
        "// OpenCL kernel for vector addition\n",
        "const char* kernelSource = R\"(\n",
        "__kernel void vector_add(__global const int* A, __global const int* B, __global int* C, int N) {\n",
        "    int id = get_global_id(0);\n",
        "    if (id < N) {\n",
        "        C[id] = A[id] + B[id];\n",
        "    }\n",
        "}\n",
        ")\";\n",
        "\n",
        "int main() {\n",
        "    // Host data\n",
        "    std::vector<int> A(N, 1); // Initialize A with ones\n",
        "    std::vector<int> B(N, 2); // Initialize B with twos\n",
        "    std::vector<int> C(N, 0); // Output array\n",
        "\n",
        "    // Initialize OpenCL context, queue, and program (skipping detailed error checking for brevity)\n",
        "    cl_platform_id platform_id;\n",
        "    cl_device_id device_id;\n",
        "    cl_context context;\n",
        "    cl_command_queue queue;\n",
        "    cl_program program;\n",
        "    cl_kernel kernel;\n",
        "\n",
        "    // Allocate memory on the device and copy data to the device\n",
        "\n",
        "    // Execute the OpenCL kernel\n",
        "\n",
        "    // Copy the result back to host and verify the output\n",
        "\n",
        "    std::cout << \"Vector addition result: \" << C[0] << std::endl; // Example output\n",
        "    return 0;\n",
        "}\n"
      ],
      "metadata": {
        "id": "AI7u0qvH1Ejq"
      },
      "execution_count": null,
      "outputs": []
    }
  ]
}